{
 "cells": [
  {
   "cell_type": "code",
   "execution_count": 1,
   "id": "77eddb8c",
   "metadata": {},
   "outputs": [],
   "source": [
    "import pandas as pd\n",
    "import numpy as np\n",
    "from geopy.geocoders import ArcGIS"
   ]
  },
  {
   "cell_type": "code",
   "execution_count": 2,
   "id": "bc2525ff",
   "metadata": {},
   "outputs": [
    {
     "data": {
      "text/plain": [
       "67841"
      ]
     },
     "execution_count": 2,
     "metadata": {},
     "output_type": "execute_result"
    }
   ],
   "source": [
    "file_name = \"sightings_cleaned.pkl\"\n",
    "sightings_cleaned = pd.read_pickle(file_name)\n",
    "\n",
    "len(sightings_cleaned)"
   ]
  },
  {
   "cell_type": "code",
   "execution_count": 4,
   "id": "8eb80aba",
   "metadata": {},
   "outputs": [],
   "source": [
    "nom=ArcGIS()\n",
    "sightings_location = sightings_cleaned[(sightings_cleaned.Country==\"United States\")&(sightings_cleaned.City.isnull()==False)&(sightings_cleaned.City!=\"\")].copy()"
   ]
  },
  {
   "cell_type": "code",
   "execution_count": null,
   "id": "4e30e790",
   "metadata": {},
   "outputs": [],
   "source": [
    "sightings_location[\"Location\"] = sightings_location.City + \", \" + sightings_location.State + \" \" + sightings_location.Country"
   ]
  },
  {
   "cell_type": "code",
   "execution_count": null,
   "id": "d958a848",
   "metadata": {},
   "outputs": [],
   "source": [
    "sightings_location['Coord']= sightings_location_full['Location'].apply(nom.geocode)"
   ]
  },
  {
   "cell_type": "code",
   "execution_count": null,
   "id": "171c8902",
   "metadata": {},
   "outputs": [],
   "source": [
    "sightings_location['Lat'] = sightings_location_full['Coord'].apply(lambda x: x.latitude)"
   ]
  },
  {
   "cell_type": "code",
   "execution_count": null,
   "id": "21df8510",
   "metadata": {},
   "outputs": [],
   "source": [
    "sightings_location['Lon'] = sightings_location_full['Coord'].apply(lambda x: x.longitude)"
   ]
  },
  {
   "cell_type": "code",
   "execution_count": null,
   "id": "2f49a91a",
   "metadata": {},
   "outputs": [],
   "source": [
    "sightings_location.drop('Coord', axis=1, inplace=True)"
   ]
  },
  {
   "cell_type": "code",
   "execution_count": null,
   "id": "9e4675fd",
   "metadata": {},
   "outputs": [],
   "source": [
    "sightings_location_full.to_pickle(\"sightings_w_location.pkl\")"
   ]
  }
 ],
 "metadata": {
  "kernelspec": {
   "display_name": "Python 3",
   "language": "python",
   "name": "python3"
  },
  "language_info": {
   "codemirror_mode": {
    "name": "ipython",
    "version": 3
   },
   "file_extension": ".py",
   "mimetype": "text/x-python",
   "name": "python",
   "nbconvert_exporter": "python",
   "pygments_lexer": "ipython3",
   "version": "3.6.10"
  }
 },
 "nbformat": 4,
 "nbformat_minor": 5
}
