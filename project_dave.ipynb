{
 "cells": [
  {
   "cell_type": "code",
   "execution_count": 1,
   "metadata": {},
   "outputs": [],
   "source": [
    "import pandas as pd\n",
    "import numpy as np"
   ]
  },
  {
   "cell_type": "code",
   "execution_count": 2,
   "metadata": {},
   "outputs": [
    {
     "data": {
      "text/plain": [
       "67841"
      ]
     },
     "execution_count": 2,
     "metadata": {},
     "output_type": "execute_result"
    }
   ],
   "source": [
    "file_name = \"sightings_cleaned.pkl\"\n",
    "sightings_cleaned = pd.read_pickle(file_name)\n",
    "\n",
    "len(sightings_cleaned)"
   ]
  },
  {
   "cell_type": "code",
   "execution_count": 3,
   "metadata": {},
   "outputs": [],
   "source": [
    "sightings_cleaned_copy = sightings_cleaned.copy()"
   ]
  },
  {
   "cell_type": "code",
   "execution_count": 4,
   "metadata": {},
   "outputs": [
    {
     "data": {
      "text/html": [
       "<div>\n",
       "<style scoped>\n",
       "    .dataframe tbody tr th:only-of-type {\n",
       "        vertical-align: middle;\n",
       "    }\n",
       "\n",
       "    .dataframe tbody tr th {\n",
       "        vertical-align: top;\n",
       "    }\n",
       "\n",
       "    .dataframe thead th {\n",
       "        text-align: right;\n",
       "    }\n",
       "</style>\n",
       "<table border=\"1\" class=\"dataframe\">\n",
       "  <thead>\n",
       "    <tr style=\"text-align: right;\">\n",
       "      <th></th>\n",
       "      <th>Date_Time</th>\n",
       "      <th>City</th>\n",
       "      <th>State</th>\n",
       "      <th>Shape</th>\n",
       "      <th>Duration</th>\n",
       "      <th>Summary</th>\n",
       "      <th>Posted</th>\n",
       "      <th>Detail_Link</th>\n",
       "      <th>Detail_Summary</th>\n",
       "    </tr>\n",
       "  </thead>\n",
       "  <tbody>\n",
       "    <tr>\n",
       "      <th>0</th>\n",
       "      <td>4/23/21 06:30</td>\n",
       "      <td>Blackshear</td>\n",
       "      <td>GA</td>\n",
       "      <td>Circle</td>\n",
       "      <td>9 minutes</td>\n",
       "      <td>Very strange   ((NUFORC Note:  Rocket launch f...</td>\n",
       "      <td>4/23/21</td>\n",
       "      <td>http://www.nuforc.org/webreports/162/S162815.html</td>\n",
       "      <td>\\nVery strangeI have recorded a video of this ...</td>\n",
       "    </tr>\n",
       "    <tr>\n",
       "      <th>1</th>\n",
       "      <td>4/23/21 06:00</td>\n",
       "      <td>Mechanicsville</td>\n",
       "      <td>VA</td>\n",
       "      <td>Circle</td>\n",
       "      <td>Seconds</td>\n",
       "      <td>Ball in the sky   ((NUFORC Note:  Rocket launc...</td>\n",
       "      <td>4/23/21</td>\n",
       "      <td>http://www.nuforc.org/webreports/162/S162814.html</td>\n",
       "      <td>\\nBall in the skyObject appears as a white bal...</td>\n",
       "    </tr>\n",
       "    <tr>\n",
       "      <th>2</th>\n",
       "      <td>4/23/21 06:00</td>\n",
       "      <td>Vero Beach</td>\n",
       "      <td>FL</td>\n",
       "      <td>Light</td>\n",
       "      <td>5 minutes</td>\n",
       "      <td>I was driving and saw something strange in the...</td>\n",
       "      <td>4/23/21</td>\n",
       "      <td>http://www.nuforc.org/webreports/162/S162822.html</td>\n",
       "      <td>\\nI was driving and saw something strange in t...</td>\n",
       "    </tr>\n",
       "    <tr>\n",
       "      <th>3</th>\n",
       "      <td>4/23/21 05:59</td>\n",
       "      <td>St. Augustine</td>\n",
       "      <td>FL</td>\n",
       "      <td>Light</td>\n",
       "      <td>3 minutes</td>\n",
       "      <td>2 extremely bright lights appeared over east c...</td>\n",
       "      <td>4/23/21</td>\n",
       "      <td>http://www.nuforc.org/webreports/162/S162824.html</td>\n",
       "      <td>\\n2 extremely bright lights appeared over east...</td>\n",
       "    </tr>\n",
       "    <tr>\n",
       "      <th>4</th>\n",
       "      <td>4/23/21 05:58</td>\n",
       "      <td>Durham</td>\n",
       "      <td>NC</td>\n",
       "      <td>Cone</td>\n",
       "      <td>&gt;5 minutes</td>\n",
       "      <td>A cone of light coming from the sky unlike any...</td>\n",
       "      <td>4/23/21</td>\n",
       "      <td>http://www.nuforc.org/webreports/162/S162819.html</td>\n",
       "      <td>\\nA cone of light coming from the sky unlike a...</td>\n",
       "    </tr>\n",
       "  </tbody>\n",
       "</table>\n",
       "</div>"
      ],
      "text/plain": [
       "       Date_Time            City State   Shape    Duration  \\\n",
       "0  4/23/21 06:30      Blackshear    GA  Circle   9 minutes   \n",
       "1  4/23/21 06:00  Mechanicsville    VA  Circle     Seconds   \n",
       "2  4/23/21 06:00      Vero Beach    FL   Light   5 minutes   \n",
       "3  4/23/21 05:59   St. Augustine    FL   Light   3 minutes   \n",
       "4  4/23/21 05:58          Durham    NC    Cone  >5 minutes   \n",
       "\n",
       "                                             Summary   Posted  \\\n",
       "0  Very strange   ((NUFORC Note:  Rocket launch f...  4/23/21   \n",
       "1  Ball in the sky   ((NUFORC Note:  Rocket launc...  4/23/21   \n",
       "2  I was driving and saw something strange in the...  4/23/21   \n",
       "3  2 extremely bright lights appeared over east c...  4/23/21   \n",
       "4  A cone of light coming from the sky unlike any...  4/23/21   \n",
       "\n",
       "                                         Detail_Link  \\\n",
       "0  http://www.nuforc.org/webreports/162/S162815.html   \n",
       "1  http://www.nuforc.org/webreports/162/S162814.html   \n",
       "2  http://www.nuforc.org/webreports/162/S162822.html   \n",
       "3  http://www.nuforc.org/webreports/162/S162824.html   \n",
       "4  http://www.nuforc.org/webreports/162/S162819.html   \n",
       "\n",
       "                                      Detail_Summary  \n",
       "0  \\nVery strangeI have recorded a video of this ...  \n",
       "1  \\nBall in the skyObject appears as a white bal...  \n",
       "2  \\nI was driving and saw something strange in t...  \n",
       "3  \\n2 extremely bright lights appeared over east...  \n",
       "4  \\nA cone of light coming from the sky unlike a...  "
      ]
     },
     "execution_count": 4,
     "metadata": {},
     "output_type": "execute_result"
    }
   ],
   "source": [
    "sightings_raw_data = pd.read_pickle(\"sightings.pkl\")\n",
    "sightings_raw_df = pd.DataFrame(sightings_raw_data)\n",
    "sightings_raw_df.head(5)"
   ]
  },
  {
   "cell_type": "code",
   "execution_count": 5,
   "metadata": {},
   "outputs": [],
   "source": [
    "import gensim"
   ]
  },
  {
   "cell_type": "code",
   "execution_count": 6,
   "metadata": {},
   "outputs": [],
   "source": [
    "sumDocs = [gensim.utils.simple_preprocess(s) for s in sightings_raw_df.Detail_Summary.fillna(\"\")]"
   ]
  },
  {
   "cell_type": "code",
   "execution_count": 8,
   "metadata": {},
   "outputs": [
    {
     "data": {
      "text/plain": [
       "(115876365, 157244240)"
      ]
     },
     "execution_count": 8,
     "metadata": {},
     "output_type": "execute_result"
    }
   ],
   "source": [
    "model = gensim.models.Word2Vec(sumDocs, window=10, min_count=2, workers=10)\n",
    "model.train(sumDocs,total_examples=len(sumDocs),epochs=10)"
   ]
  },
  {
   "cell_type": "code",
   "execution_count": 9,
   "metadata": {},
   "outputs": [
    {
     "data": {
      "text/plain": [
       "[('farben', 0.6086281538009644),\n",
       " ('wardsboro', 0.5961007475852966),\n",
       " ('grün', 0.5922934412956238),\n",
       " ('unwaivering', 0.5917943120002747),\n",
       " ('soucouyant', 0.5810309648513794)]"
      ]
     },
     "execution_count": 9,
     "metadata": {},
     "output_type": "execute_result"
    }
   ],
   "source": [
    "model.wv.most_similar (positive=\"jury\", topn=5)"
   ]
  },
  {
   "cell_type": "code",
   "execution_count": 11,
   "metadata": {},
   "outputs": [
    {
     "data": {
      "text/plain": [
       "0.42460892"
      ]
     },
     "execution_count": 11,
     "metadata": {},
     "output_type": "execute_result"
    }
   ],
   "source": [
    "model.wv.similarity(w1=\"orange\",w2=\"red\")"
   ]
  }
 ],
 "metadata": {
  "kernelspec": {
   "display_name": "Python 3",
   "language": "python",
   "name": "python3"
  },
  "language_info": {
   "codemirror_mode": {
    "name": "ipython",
    "version": 3
   },
   "file_extension": ".py",
   "mimetype": "text/x-python",
   "name": "python",
   "nbconvert_exporter": "python",
   "pygments_lexer": "ipython3",
   "version": "3.6.9"
  }
 },
 "nbformat": 4,
 "nbformat_minor": 2
}
