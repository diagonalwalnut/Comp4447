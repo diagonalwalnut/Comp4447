{
 "cells": [
  {
   "cell_type": "markdown",
   "id": "035de0f7",
   "metadata": {},
   "source": [
    "http://www.nuforc.org/webreports/ndxe202004.html\n",
    "\n",
    "https://data.world/timothyrenner/ufo-sightings"
   ]
  },
  {
   "cell_type": "code",
   "execution_count": 61,
   "id": "414920a2",
   "metadata": {},
   "outputs": [],
   "source": [
    "from bs4 import BeautifulSoup as bsoup\n",
    "from urllib.request import Request, urlopen\n",
    "import csv\n",
    "import requests\n",
    "import pandas as pd\n",
    "import numpy as np"
   ]
  },
  {
   "cell_type": "code",
   "execution_count": 92,
   "id": "45f8527c",
   "metadata": {},
   "outputs": [],
   "source": [
    "def get_page(url):\n",
    "    #Make the request and open the url :\n",
    "    req = Request(url, headers={'User-Agent': 'Mozilla/5.0'})\n",
    "    webpage = urlopen(req).read()\n",
    "\n",
    "    #Create a beutiful soup object so we can work with the data\n",
    "    soup = bsoup(webpage, 'html.parser')\n",
    "\n",
    "    #Sanity check \n",
    "    return soup"
   ]
  },
  {
   "cell_type": "code",
   "execution_count": 93,
   "id": "08ac2599",
   "metadata": {},
   "outputs": [],
   "source": [
    "def get_iterable_data(table):\n",
    "    for c in table:\n",
    "        yield c.getText()"
   ]
  },
  {
   "cell_type": "code",
   "execution_count": 94,
   "id": "b6899fc8",
   "metadata": {},
   "outputs": [],
   "source": [
    "def get_sighting_detail(url_string):\n",
    "    detail_page = get_page(url_string)\n",
    "    detail_page = detail_page.find(\"tbody\")\n",
    "    rows = detail_page.find_all(\"tr\")\n",
    "    d = get_iterable_data(rows)\n",
    "    next(d)\n",
    "    return next(d)"
   ]
  },
  {
   "cell_type": "code",
   "execution_count": 128,
   "id": "e47e16e2",
   "metadata": {},
   "outputs": [],
   "source": [
    "def monthly_report_detail(url_string, col_names, sightings, remaining):\n",
    "    # func_sightings = pd.DataFrame(columns = col_names)\n",
    "    soup = get_page(url_string)\n",
    "    temp = dict()\n",
    "\n",
    "    results = soup.find_all('tr', attrs={'valign': 'TOP'})\n",
    "    index = len(sightings)\n",
    "    count = 0\n",
    "    for result in results:\n",
    "        if remaining > 0:\n",
    "            remaining -= 1\n",
    "            count += 1\n",
    "            continue\n",
    "        # print(f\"Length: {len(sightings)}, index: {index}, count: {count}, remaining: {remaining}\")\n",
    "        table_cols = result.find_all('td')    \n",
    "        col_text = get_iterable_data(table_cols)\n",
    "        temp[\"Date_Time\"] = next(col_text)\n",
    "        temp[\"City\"] = next(col_text)\n",
    "        temp[\"State\"] = next(col_text)\n",
    "        temp[\"Shape\"] = next(col_text)\n",
    "        temp[\"Duration\"] = next(col_text)\n",
    "        temp[\"Summary\"] = next(col_text)\n",
    "        temp[\"Posted\"] = next(col_text)\n",
    "        temp[\"Detail_Link\"] = \"http://www.nuforc.org/webreports/\" + result.find(\"a\").get(\"href\")\n",
    "        temp[\"Detail_Summary\"] = get_sighting_detail(temp[\"Detail_Link\"])\n",
    "\n",
    "        # func_sightings = func_sightings.append(temp, ignore_index = True)\n",
    "        sightings.loc[index] = temp\n",
    "        index += 1\n",
    "    return len(results)"
   ]
  },
  {
   "cell_type": "code",
   "execution_count": 113,
   "id": "ed314def",
   "metadata": {},
   "outputs": [],
   "source": [
    "col_names = [\"Date_Time\", \"City\", \"State\", \"Shape\", \"Duration\", \"Summary\", \"Posted\", \"Detail_Link\", \"Detail_Summary\"]\n",
    "# sightings = pd.DataFrame(columns = col_names)"
   ]
  },
  {
   "cell_type": "code",
   "execution_count": null,
   "id": "afec7bdc",
   "metadata": {},
   "outputs": [
    {
     "name": "stdout",
     "output_type": "stream",
     "text": [
      "Resuming: 2447\n",
      "Just added 454 sightings, total now 2792\n"
     ]
    }
   ],
   "source": [
    "url_string = \"http://www.nuforc.org/webreports/ndxevent.html\"\n",
    "monthly_report = get_page(url_string)\n",
    "monthly_report_list = monthly_report.find_all('tr', attrs={'valign': 'TOP'})\n",
    "# print(monthly_report_list)\n",
    "\n",
    "remaining = len(sightings)\n",
    "for report in monthly_report_list:\n",
    "    cols = report.find_all(\"td\")\n",
    "    report_number = int(cols[1].getText())\n",
    "    \n",
    "    if remaining > report_number:\n",
    "        remaining = remaining - report_number\n",
    "        continue\n",
    "    \n",
    "    if remaining > 0:\n",
    "        print(f\"Resuming: {len(sightings)}\")\n",
    "    \n",
    "    monthly_report_url = \"http://www.nuforc.org/webreports/\" + report.find(\"a\").get(\"href\")\n",
    "    \n",
    "    sightings_added = monthly_report_detail(monthly_report_url, col_names, sightings, remaining)\n",
    "    print(f\"Just added {sightings_added} sightings, total now {len(sightings)}\")\n",
    "    \n",
    "    remaining = 0"
   ]
  },
  {
   "cell_type": "code",
   "execution_count": 122,
   "id": "a30b8763",
   "metadata": {},
   "outputs": [
    {
     "data": {
      "text/plain": [
       "2431"
      ]
     },
     "execution_count": 122,
     "metadata": {},
     "output_type": "execute_result"
    }
   ],
   "source": [
    "len(sightings)"
   ]
  },
  {
   "cell_type": "code",
   "execution_count": 112,
   "id": "5384b357",
   "metadata": {},
   "outputs": [
    {
     "data": {
      "text/html": [
       "<div>\n",
       "<style scoped>\n",
       "    .dataframe tbody tr th:only-of-type {\n",
       "        vertical-align: middle;\n",
       "    }\n",
       "\n",
       "    .dataframe tbody tr th {\n",
       "        vertical-align: top;\n",
       "    }\n",
       "\n",
       "    .dataframe thead th {\n",
       "        text-align: right;\n",
       "    }\n",
       "</style>\n",
       "<table border=\"1\" class=\"dataframe\">\n",
       "  <thead>\n",
       "    <tr style=\"text-align: right;\">\n",
       "      <th></th>\n",
       "      <th>Date_Time</th>\n",
       "      <th>City</th>\n",
       "      <th>State</th>\n",
       "      <th>Shape</th>\n",
       "      <th>Duration</th>\n",
       "      <th>Summary</th>\n",
       "      <th>Posted</th>\n",
       "      <th>Detail_Link</th>\n",
       "      <th>Detail_Summary</th>\n",
       "    </tr>\n",
       "  </thead>\n",
       "  <tbody>\n",
       "    <tr>\n",
       "      <th>0</th>\n",
       "      <td>4/23/21 06:30</td>\n",
       "      <td>Blackshear</td>\n",
       "      <td>GA</td>\n",
       "      <td>Circle</td>\n",
       "      <td>9 minutes</td>\n",
       "      <td>Very strange   ((NUFORC Note:  Rocket launch f...</td>\n",
       "      <td>4/23/21</td>\n",
       "      <td>http://www.nuforc.org/webreports/162/S162815.html</td>\n",
       "      <td>\\nVery strangeI have recorded a video of this ...</td>\n",
       "    </tr>\n",
       "    <tr>\n",
       "      <th>1</th>\n",
       "      <td>4/23/21 06:00</td>\n",
       "      <td>Mechanicsville</td>\n",
       "      <td>VA</td>\n",
       "      <td>Circle</td>\n",
       "      <td>Seconds</td>\n",
       "      <td>Ball in the sky   ((NUFORC Note:  Rocket launc...</td>\n",
       "      <td>4/23/21</td>\n",
       "      <td>http://www.nuforc.org/webreports/162/S162814.html</td>\n",
       "      <td>\\nBall in the skyObject appears as a white bal...</td>\n",
       "    </tr>\n",
       "    <tr>\n",
       "      <th>2</th>\n",
       "      <td>4/23/21 06:00</td>\n",
       "      <td>Vero Beach</td>\n",
       "      <td>FL</td>\n",
       "      <td>Light</td>\n",
       "      <td>5 minutes</td>\n",
       "      <td>I was driving and saw something strange in the...</td>\n",
       "      <td>4/23/21</td>\n",
       "      <td>http://www.nuforc.org/webreports/162/S162822.html</td>\n",
       "      <td>\\nI was driving and saw something strange in t...</td>\n",
       "    </tr>\n",
       "  </tbody>\n",
       "</table>\n",
       "</div>"
      ],
      "text/plain": [
       "       Date_Time            City State   Shape   Duration  \\\n",
       "0  4/23/21 06:30      Blackshear    GA  Circle  9 minutes   \n",
       "1  4/23/21 06:00  Mechanicsville    VA  Circle    Seconds   \n",
       "2  4/23/21 06:00      Vero Beach    FL   Light  5 minutes   \n",
       "\n",
       "                                             Summary   Posted  \\\n",
       "0  Very strange   ((NUFORC Note:  Rocket launch f...  4/23/21   \n",
       "1  Ball in the sky   ((NUFORC Note:  Rocket launc...  4/23/21   \n",
       "2  I was driving and saw something strange in the...  4/23/21   \n",
       "\n",
       "                                         Detail_Link  \\\n",
       "0  http://www.nuforc.org/webreports/162/S162815.html   \n",
       "1  http://www.nuforc.org/webreports/162/S162814.html   \n",
       "2  http://www.nuforc.org/webreports/162/S162822.html   \n",
       "\n",
       "                                      Detail_Summary  \n",
       "0  \\nVery strangeI have recorded a video of this ...  \n",
       "1  \\nBall in the skyObject appears as a white bal...  \n",
       "2  \\nI was driving and saw something strange in t...  "
      ]
     },
     "execution_count": 112,
     "metadata": {},
     "output_type": "execute_result"
    }
   ],
   "source": [
    "sightings"
   ]
  }
 ],
 "metadata": {
  "kernelspec": {
   "display_name": "Python 3",
   "language": "python",
   "name": "python3"
  },
  "language_info": {
   "codemirror_mode": {
    "name": "ipython",
    "version": 3
   },
   "file_extension": ".py",
   "mimetype": "text/x-python",
   "name": "python",
   "nbconvert_exporter": "python",
   "pygments_lexer": "ipython3",
   "version": "3.6.10"
  }
 },
 "nbformat": 4,
 "nbformat_minor": 5
}
